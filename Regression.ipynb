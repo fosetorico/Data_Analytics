{
  "nbformat": 4,
  "nbformat_minor": 0,
  "metadata": {
    "colab": {
      "provenance": [],
      "mount_file_id": "1PK7SQOaQnSKQP_i_qML5fy5U2LWxQidQ",
      "authorship_tag": "ABX9TyPMP++cqOLqAXLKcvEYZZIQ"
    },
    "kernelspec": {
      "name": "python3",
      "display_name": "Python 3"
    },
    "language_info": {
      "name": "python"
    }
  },
  "cells": [
    {
      "cell_type": "markdown",
      "source": [
        "#**Regression**"
      ],
      "metadata": {
        "id": "Nao4zFR98lIu"
      }
    },
    {
      "cell_type": "code",
      "execution_count": null,
      "metadata": {
        "colab": {
          "base_uri": "https://localhost:8080/"
        },
        "id": "OaViae8g4dcM",
        "outputId": "e606fd04-5a7f-4d6f-f44a-e1e0e183dfb1"
      },
      "outputs": [
        {
          "output_type": "stream",
          "name": "stdout",
          "text": [
            "1.0\n",
            "\n",
            "\n",
            "[3. 7.]\n",
            "\n",
            "\n",
            "3.0000000000000036\n",
            "\n",
            "\n",
            "[47.]\n",
            "\n",
            "\n"
          ]
        }
      ],
      "source": [
        "#Example 1 Linear Regression\n",
        "#https://scikit-learn.org/stable/modules/generated/sklearn.linear_model.LinearRegression.html\n",
        "import numpy as np\n",
        "from sklearn.linear_model import LinearRegression\n",
        "\n",
        "#Representation of an array in numpy\n",
        "X = np.array([[1, 1], [1, 2], [2, 2], [2, 3]])\n",
        "\n",
        "# y = 5 * x_0 + 6 * x_1 + 3\n",
        "#x_0 is the first element of each pair; #x_1 is the second element\n",
        "#np.dot() is the product of two arrays\n",
        "#Note 5 and 6 are the coefficients for the equation y\n",
        "\n",
        "y = np.dot(X, np.array([3, 7])) + 3\n",
        "reg = LinearRegression().fit(X, y)\n",
        "print(reg.score(X, y))\n",
        "print(\"\\n\")\n",
        "\n",
        "#Estimate coefficiencts for the linear regression problem.\n",
        "#First coefficient is for x_0, and second is for x_1\n",
        "print(reg.coef_)\n",
        "print(\"\\n\")\n",
        "\n",
        "#Intercept of the linear regression problem\n",
        "print(reg.intercept_)\n",
        "print(\"\\n\")\n",
        "\n",
        "#Predict the y value for [3,5] - x_0 is 3, and x_1 is 5\n",
        "print(reg.predict(np.array([[3, 5]])))\n",
        "print(\"\\n\")\n"
      ]
    },
    {
      "cell_type": "code",
      "source": [
        "#Example 2 2-D Linear Regression Plot Part 3\n",
        "#https://scikit-learn.org/stable/auto_examples/linear_model/plot_ols.html#sphx-glr-auto-examples-linear-model-plot-ols-py\n",
        "#https://medium.com/the-code-monster/split-a-dataset-into-train-and-test-datasets-using-sk-learn-acc7fd1802e0\n",
        "\n",
        "import matplotlib.pyplot as plt\n",
        "import numpy as np\n",
        "import pandas as pd\n",
        "from sklearn import datasets, linear_model\n",
        "from sklearn.linear_model import LinearRegression\n",
        "from sklearn.model_selection import train_test_split\n",
        "from sklearn.metrics import mean_squared_error, r2_score\n",
        "\n",
        "#load dataset and remove white spaces\n",
        "dataset = pd.read_excel('/content/drive/MyDrive/Colab Notebooks/week8/diabetes2.xlsx')\n",
        "print(dataset.head())\n",
        "print(\"\\n\")\n",
        "\n",
        "#Use only 1 feature - AGE to predict the target Y\n",
        "diabetes_x = dataset[['BMI']]\n",
        "diabetes_y = dataset[['Y']]\n",
        "\n",
        "#The scatterplot evidence that seemingly there is a trend\n",
        "plt.scatter(diabetes_x, diabetes_y)\n",
        "\n",
        "#Split the dataset into training and testing sets (80%:20%)\n",
        "x_train,x_test,y_train,y_test=train_test_split(diabetes_x, diabetes_y,test_size=0.2)\n",
        "print(x_train)\n",
        "print(\"\\n\")\n",
        "print(y_train)\n",
        "print(\"\\n\")\n",
        "print(x_test)\n",
        "\n",
        "\n",
        "#Create linear regression object\n",
        "regr = LinearRegression()\n",
        "\n",
        "# Train the model using the training sets and reshape 1D arrays\n",
        "regr.fit(x_train, y_train)\n",
        "\n",
        "# Make predictions using the testing set\n",
        "y_pred = regr.predict(x_test)\n",
        "y_pred2 = regr.predict([[60]])\n",
        "print(\"\\n\")\n",
        "print(\"The predicted Y value for BMI = 60 is: \", y_pred2)\n",
        "\n",
        "# The coefficients\n",
        "print('Coefficients: \\n', regr.coef_)\n",
        "print(\"\\n\")\n",
        "\n",
        "# The mean squared error\n",
        "print('Mean squared error: ', mean_squared_error(y_test, y_pred))\n",
        "\n",
        "# The coefficient of determination: 1 is perfect prediction\n",
        "print('Coefficient of determination: ', r2_score(y_test, y_pred))\n",
        "\n",
        " # Plot outputs\n",
        "plt.scatter(x_test, y_test,  color='black')\n",
        "plt.plot(x_test, y_pred, color='blue', linewidth=3)\n",
        "\n",
        "plt.xticks(())\n",
        "plt.yticks(())\n",
        "\n",
        "plt.show()\n"
      ],
      "metadata": {
        "colab": {
          "base_uri": "https://localhost:8080/",
          "height": 1000
        },
        "id": "ojHIjdn6BkD9",
        "outputId": "56b8801c-581e-427d-b8f2-a16730a46c8f"
      },
      "execution_count": null,
      "outputs": [
        {
          "output_type": "stream",
          "name": "stdout",
          "text": [
            "   AGE  SEX   BMI     BP   S1     S2  S3   S4      S5  S6    Y\n",
            "0   59    2  32.1  101.0  157   93.2  38  4.0  4.8598  87  151\n",
            "1   48    1  21.6   87.0  183  103.2  70  3.0  3.8918  69   75\n",
            "2   72    2  30.5   93.0  156   93.6  41  4.0  4.6728  85  141\n",
            "3   24    1  25.3   84.0  198  131.4  40  5.0  4.8903  89  206\n",
            "4   50    1  23.0  101.0  192  125.4  52  4.0  4.2905  80  135\n",
            "\n",
            "\n",
            "      BMI\n",
            "45   23.1\n",
            "422  33.6\n",
            "61   26.8\n",
            "348  24.5\n",
            "415  27.2\n",
            "..    ...\n",
            "129  27.9\n",
            "156  25.4\n",
            "395  26.5\n",
            "231  23.5\n",
            "435  24.2\n",
            "\n",
            "[353 rows x 1 columns]\n",
            "\n",
            "\n",
            "       Y\n",
            "45    53\n",
            "422  233\n",
            "61   144\n",
            "348  148\n",
            "415  174\n",
            "..   ...\n",
            "129  268\n",
            "156   25\n",
            "395  258\n",
            "231  154\n",
            "435   64\n",
            "\n",
            "[353 rows x 1 columns]\n",
            "\n",
            "\n",
            "      BMI\n",
            "209  24.7\n",
            "330  29.2\n",
            "317  23.2\n",
            "20   21.1\n",
            "331  24.0\n",
            "..    ...\n",
            "401  22.2\n",
            "269  23.4\n",
            "321  31.2\n",
            "297  25.6\n",
            "186  30.3\n",
            "\n",
            "[89 rows x 1 columns]\n",
            "\n",
            "\n",
            "The predicted Y value for BMI = 60 is:  [[487.81505648]]\n",
            "Coefficients: \n",
            " [[9.89640058]]\n",
            "\n",
            "\n",
            "Mean squared error:  4237.801133810025\n",
            "Coefficient of determination:  0.3538582632884463\n"
          ]
        },
        {
          "output_type": "stream",
          "name": "stderr",
          "text": [
            "/usr/local/lib/python3.10/dist-packages/sklearn/base.py:439: UserWarning: X does not have valid feature names, but LinearRegression was fitted with feature names\n",
            "  warnings.warn(\n"
          ]
        },
        {
          "output_type": "display_data",
          "data": {
            "text/plain": [
              "<Figure size 640x480 with 1 Axes>"
            ],
            "image/png": "[encoded data removed]"
          },
          "metadata": {}
        }
      ]
    },
    {
      "cell_type": "code",
      "source": [
        "#Example 1 Linear Regression\n",
        "#https://scikit-learn.org/stable/modules/generated/sklearn.linear_model.LinearRegression.html\n",
        "import numpy as np\n",
        "from sklearn.linear_model import LinearRegression\n",
        "\n",
        "#Representation of an array in numpy\n",
        "X = np.array([[1, 1], [1, 2], [2, 2], [2, 3]])\n",
        "\n",
        "# y = 5 * x_0 + 6 * x_1 + 3\n",
        "#x_0 is the first element of each pair; #x_1 is the second element\n",
        "#np.dot() is the product of two arrays\n",
        "#Note 5 and 6 are the coefficients for the equation y\n",
        "\n",
        "y = np.dot(X, np.array([3, 7])) + 3\n",
        "reg = LinearRegression().fit(X, y)\n",
        "print(reg.score(X, y))\n",
        "print(\"\\n\")\n",
        "\n",
        "#Estimate coefficiencts for the linear regression problem.\n",
        "#First coefficient is for x_0, and second is for x_1\n",
        "print(reg.coef_)\n",
        "print(\"\\n\")\n",
        "\n",
        "#Intercept of the linear regression problem\n",
        "print(reg.intercept_)\n",
        "print(\"\\n\")\n",
        "\n",
        "#Predict the y value for [3,5] - x_0 is 3, and x_1 is 5\n",
        "print(reg.predict(np.array([[3, 5]])))\n",
        "print(\"\\n\")\n"
      ],
      "metadata": {
        "colab": {
          "base_uri": "https://localhost:8080/"
        },
        "id": "w-LHxfaJ8YPP",
        "outputId": "02e3e9d0-3837-446f-cbe0-1a312671e138"
      },
      "execution_count": null,
      "outputs": [
        {
          "output_type": "stream",
          "name": "stdout",
          "text": [
            "1.0\n",
            "\n",
            "\n",
            "[3. 7.]\n",
            "\n",
            "\n",
            "3.0000000000000036\n",
            "\n",
            "\n",
            "[47.]\n",
            "\n",
            "\n"
          ]
        }
      ]
    }
  ]
}