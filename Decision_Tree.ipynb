{
  "nbformat": 4,
  "nbformat_minor": 0,
  "metadata": {
    "colab": {
      "provenance": [],
      "mount_file_id": "11ZdEVOHt_mQXbkQC5sNksGE-BivSKeCQ",
      "authorship_tag": "ABX9TyOWl1ua0xFU34FPVprIcCK+"
    },
    "kernelspec": {
      "name": "python3",
      "display_name": "Python 3"
    },
    "language_info": {
      "name": "python"
    }
  },
  "cells": [
    {
      "cell_type": "code",
      "execution_count": 2,
      "metadata": {
        "id": "rEYxlbTo3rok"
      },
      "outputs": [],
      "source": [
        "import pandas as pd\n",
        "from sklearn.tree import DecisionTreeClassifier # Import Decision Tree Classifier\n",
        "from sklearn.model_selection import train_test_split # Import train_test_split function\n",
        "from sklearn import metrics #Import scikit-learn metrics module for accuracy calculation\n",
        "from sklearn.metrics import confusion_matrix\n"
      ]
    },
    {
      "cell_type": "code",
      "source": [
        "dataset = pd.read_csv('/content/drive/MyDrive/Colab Notebooks/week6/pima-indians-diabetes.csv')\n",
        "print(dataset.head())\n",
        "print(\"\\n\")\n",
        "print(dataset[['pregNo', 'glucose', 'bp', 'skin', 'insulin', 'bmi', 'pedigree', 'age']].describe())\n"
      ],
      "metadata": {
        "colab": {
          "base_uri": "https://localhost:8080/"
        },
        "id": "xhLhlTob4dQl",
        "outputId": "40d32d45-035c-48c0-f025-bc8bcf4b04ed"
      },
      "execution_count": 3,
      "outputs": [
        {
          "output_type": "stream",
          "name": "stdout",
          "text": [
            "   pregNo  glucose  bp  skin  insulin   bmi  pedigree  age  class\n",
            "0       6      148  72    35        0  33.6     0.627   50      1\n",
            "1       1       85  66    29        0  26.6     0.351   31      0\n",
            "2       8      183  64     0        0  23.3     0.672   32      1\n",
            "3       1       89  66    23       94  28.1     0.167   21      0\n",
            "4       0      137  40    35      168  43.1     2.288   33      1\n",
            "\n",
            "\n",
            "           pregNo     glucose          bp        skin     insulin         bmi  \\\n",
            "count  768.000000  768.000000  768.000000  768.000000  768.000000  768.000000   \n",
            "mean     3.845052  120.894531   69.105469   20.536458   79.799479   31.992578   \n",
            "std      3.369578   31.972618   19.355807   15.952218  115.244002    7.884160   \n",
            "min      0.000000    0.000000    0.000000    0.000000    0.000000    0.000000   \n",
            "25%      1.000000   99.000000   62.000000    0.000000    0.000000   27.300000   \n",
            "50%      3.000000  117.000000   72.000000   23.000000   30.500000   32.000000   \n",
            "75%      6.000000  140.250000   80.000000   32.000000  127.250000   36.600000   \n",
            "max     17.000000  199.000000  122.000000   99.000000  846.000000   67.100000   \n",
            "\n",
            "         pedigree         age  \n",
            "count  768.000000  768.000000  \n",
            "mean     0.471876   33.240885  \n",
            "std      0.331329   11.760232  \n",
            "min      0.078000   21.000000  \n",
            "25%      0.243750   24.000000  \n",
            "50%      0.372500   29.000000  \n",
            "75%      0.626250   41.000000  \n",
            "max      2.420000   81.000000  \n"
          ]
        }
      ]
    },
    {
      "cell_type": "code",
      "source": [
        "#Read in the dataset and display\n",
        "dataset = pd.read_csv('/content/drive/MyDrive/Colab Notebooks/week6/pima-indians-diabetes.csv')\n",
        "# print(dataset.head())\n",
        "\n",
        "#Feature selection: split the dataset into features (independent variables) and target (dependent variable)\n",
        "feature_cols = ['pregNo', 'glucose', 'bp', 'insulin','bmi','pedigree', 'age']\n",
        "X = dataset[feature_cols] # Features\n",
        "Y = dataset['class'] # Target variable\n",
        "\n",
        "#Function for split dataset will have 3 parameters: features, target, test_set size\n",
        "# Split dataset into training set and test set\n",
        "X_train, X_test, y_train, y_test = train_test_split(X, Y, test_size=0.3, random_state=1) # 70% training and 30% test\n",
        "\n",
        "#Build Decision Tree Model using Scikit Learn\n",
        "# Create Decision Tree classifer object\n",
        "clf = DecisionTreeClassifier()\n",
        "\n",
        "# Train Decision Tree Classifer\n",
        "clf = clf.fit(X_train,y_train)\n",
        "\n",
        "#Predict the response for test dataset\n",
        "y_pred = clf.predict(X_test)\n",
        "\n",
        "#Evaluate the accuracy of the model (or classifier) for prediction\n",
        "# Model Accuracy, how often is the classifier correct?\n",
        "print(\"\\n\")\n",
        "print(\"Accuracy for 70% training set and 30% test set :\",\n",
        "          metrics.accuracy_score(y_test, y_pred))\n"
      ],
      "metadata": {
        "colab": {
          "base_uri": "https://localhost:8080/"
        },
        "id": "NXmLf2k843VV",
        "outputId": "f31f36cb-9f11-4ce5-9b33-e291e0aae181"
      },
      "execution_count": 4,
      "outputs": [
        {
          "output_type": "stream",
          "name": "stdout",
          "text": [
            "\n",
            "\n",
            "Accuracy for 70% training set and 30% test set : 0.696969696969697\n"
          ]
        }
      ]
    },
    {
      "cell_type": "code",
      "source": [
        "#Read in the dataset and display\n",
        "dataset = pd.read_csv('/content/drive/MyDrive/Colab Notebooks/week6/pima-indians-diabetes.csv')\n",
        "print(dataset.head())\n",
        "\n",
        "#Feature selection: split the dataset into features (independent variables) and target (dependent variable)\n",
        "feature_cols = ['pregNo', 'glucose', 'bp', 'insulin','bmi','pedigree', 'age']\n",
        "X = dataset[feature_cols] # Features\n",
        "Y = dataset['class'] # Target variable\n",
        "\n",
        "#Function for split dataset will have 3 parameters: features, target, test_set size\n",
        "# Split dataset into training set and test set\n",
        "X_train, X_test, y_train, y_test = train_test_split(X, Y, test_size=0.3, random_state=1) # 70% training and 30% test\n",
        "\n",
        "\n",
        "#Build Decision Tree Model using Scikit Learn\n",
        "# Create Decision Tree classifer object\n",
        "clf = DecisionTreeClassifier()\n",
        "\n",
        "# Train Decision Tree Classifer\n",
        "clf = clf.fit(X_train,y_train)\n",
        "\n",
        "#Predict the response for test dataset\n",
        "y_pred = clf.predict(X_test)\n",
        "\n",
        "\n",
        "#Evaluate the accuracy of the model (or classifier) for prediction\n",
        "# Model Accuracy, how often is the classifier correct?\n",
        "print(\"\\n\")\n",
        "print(\"Accuracy for 70% training set and 30% test set :\",\n",
        "          metrics.accuracy_score(y_test, y_pred))\n",
        "\n",
        "\n",
        "#How to improve the accuracy of the model? By tuning the number of features for the model\n",
        "\n",
        "#Confusion matrix\n",
        "print(\"\\n\")\n",
        "print(confusion_matrix(y_test, y_pred))\n",
        "print(\"\\n\")\n",
        "\n",
        "cm = confusion_matrix(y_test, y_pred)\n",
        "tn = cm[0][0]\n",
        "fn = cm[1][0]\n",
        "tp = cm[1][1]\n",
        "fp = cm[0][1]\n",
        "\n",
        "print(\"true negative: \", tn)\n",
        "print(\"false negative: \", fn)\n",
        "print(\"true positive: \", tp)\n",
        "print(\"false positive: \", fp)\n"
      ],
      "metadata": {
        "id": "x23MiI697H_8",
        "colab": {
          "base_uri": "https://localhost:8080/"
        },
        "outputId": "f31ae4fd-ba47-4e0c-8b28-79e935990bdf"
      },
      "execution_count": 5,
      "outputs": [
        {
          "output_type": "stream",
          "name": "stdout",
          "text": [
            "   pregNo  glucose  bp  skin  insulin   bmi  pedigree  age  class\n",
            "0       6      148  72    35        0  33.6     0.627   50      1\n",
            "1       1       85  66    29        0  26.6     0.351   31      0\n",
            "2       8      183  64     0        0  23.3     0.672   32      1\n",
            "3       1       89  66    23       94  28.1     0.167   21      0\n",
            "4       0      137  40    35      168  43.1     2.288   33      1\n",
            "\n",
            "\n",
            "Accuracy for 70% training set and 30% test set : 0.670995670995671\n",
            "\n",
            "\n",
            "[[114  32]\n",
            " [ 44  41]]\n",
            "\n",
            "\n",
            "true negative:  114\n",
            "false negative:  44\n",
            "true positive:  41\n",
            "false positive:  32\n"
          ]
        }
      ]
    }
  ]
}