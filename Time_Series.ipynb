{
  "nbformat": 4,
  "nbformat_minor": 0,
  "metadata": {
    "colab": {
      "provenance": [],
      "mount_file_id": "13m-2OVlvS06lj_eGxIqjaCSvO6M_AY0v",
      "authorship_tag": "ABX9TyN8aLtIQR1nYgoMC85u0Fxb",
      "include_colab_link": true
    },
    "kernelspec": {
      "name": "python3",
      "display_name": "Python 3"
    },
    "language_info": {
      "name": "python"
    }
  },
  "cells": [
    {
      "cell_type": "markdown",
      "metadata": {
        "id": "view-in-github",
        "colab_type": "text"
      },
      "source": [
        "<a href=\"https://colab.research.google.com/github/fosetorico/Data_Analytics/blob/main/Time_Series.ipynb\" target=\"_parent\"><img src=\"https://colab.research.google.com/assets/colab-badge.svg\" alt=\"Open In Colab\"/></a>"
      ]
    },
    {
      "cell_type": "code",
      "execution_count": null,
      "metadata": {
        "colab": {
          "base_uri": "https://localhost:8080/"
        },
        "id": "oMVdlahFXY2P",
        "outputId": "fc1065c4-6cf5-4772-ff71-9eb74a3f0d47"
      },
      "outputs": [
        {
          "output_type": "stream",
          "name": "stdout",
          "text": [
            "Mounted at /content/gdrive\n"
          ]
        }
      ],
      "source": [
        "from google.colab import drive\n",
        "drive.mount('/content/gdrive')"
      ]
    },
    {
      "cell_type": "code",
      "source": [
        "# Convert timestamps to datetime\n",
        "#Different date and time formats\n",
        "import datetime as dtime\n",
        "import time\n",
        "\n",
        "#Use datetime\n",
        "ts = dtime.datetime.now()\n",
        "print(ts.strftime(\"%Y-%m-%d %H:%M:%S\"))\n",
        "print(ts.strftime(\"%x %X\")) #===> x - date, X - time\n",
        "\n",
        "#ISO format for datetime libraries\n",
        "print(ts.strftime(\"%c\"))\n",
        "\n",
        "# Unix timestamp\n",
        "print(\"Unix Timestamp 1 \",(time.mktime(ts.timetuple())))\n",
        "\n",
        "# Get Unix timestamp from a datetime object\n",
        "datetime_unix_time = ts.timestamp()\n",
        "print('Datetime as unix 2:', datetime_unix_time)\n",
        "\n",
        "# Convert Unix timestamp to datetime object\n",
        "timestamp = dtime.datetime.fromtimestamp(datetime_unix_time)\n",
        "print('DateTime from Unix timestamp 3: ', timestamp)\n",
        "\n",
        "#================================================\n",
        "#Use time\n",
        "#for greenwich meridian time\n",
        "ts1 = time.gmtime()\n",
        "print(\"\\n\")\n",
        "print(time.strftime(\"%Y-%m-%d %H:%M:%S\", ts1))\n",
        "print(time.strftime(\"%x %X\", ts1))\n",
        "\n",
        "# Iso Format for time libraries\n",
        "print(time.strftime(\"%c\", ts1))\n"
      ],
      "metadata": {
        "colab": {
          "base_uri": "https://localhost:8080/"
        },
        "id": "qCrTJyvTBk2A",
        "outputId": "a42fe83c-7e71-489a-f979-7c884a89c52f"
      },
      "execution_count": null,
      "outputs": [
        {
          "output_type": "stream",
          "name": "stdout",
          "text": [
            "2023-10-16 15:25:20\n",
            "10/16/23 15:25:20\n",
            "Mon Oct 16 15:25:20 2023\n",
            "Unix Timestamp 1  1697469920.0\n",
            "Datetime as unix 2: 1697469920.59951\n",
            "DateTime from Unix timestamp 3:  2023-10-16 15:25:20.599510\n",
            "\n",
            "\n",
            "2023-10-16 15:25:20\n",
            "10/16/23 15:25:20\n",
            "Mon Oct 16 15:25:20 2023\n"
          ]
        }
      ]
    },
    {
      "cell_type": "code",
      "source": [
        "# Current Day, Date and Time Display\n",
        "import datetime as dtime\n",
        "now = dtime.datetime.now()\n",
        "print(\"Current day is \", now.strftime(\"%A\"))\n",
        "print(\"It is Day number \", now.strftime(\"%w\"), \" of the week\")\n",
        "print(\"Current date is \", now.strftime(\"%d/%m/%Y\"))\n",
        "print(\"Another format for current date is \", now.strftime(\"%d-%B-%Y\"))\n",
        "print(\"Current time in 24-hour format is \", now.strftime(\"%H:%M:%S\"))\n"
      ],
      "metadata": {
        "colab": {
          "base_uri": "https://localhost:8080/"
        },
        "id": "VaiO6IFXF--c",
        "outputId": "d031fa7a-2eeb-41d8-ca67-11f950766739"
      },
      "execution_count": null,
      "outputs": [
        {
          "output_type": "stream",
          "name": "stdout",
          "text": [
            "Current day is  Monday\n",
            "It is Day number  1  of the week\n",
            "Current date is  16/10/2023\n",
            "Another format for current date is  16-October-2023\n",
            "Current time in 24-hour format is  15:28:12\n"
          ]
        }
      ]
    },
    {
      "cell_type": "code",
      "source": [
        "import datetime as dtime\n",
        "now = dtime.datetime.now()\n",
        "\n",
        "#ctime is current time\n",
        "ctime = now.strftime(\"%H:%M:%S\")\n",
        "mNight = \"00:00:00\"\n",
        "mtime1 = \"00:00:01\"\n",
        "mtime2 = \"11:59:59\"\n",
        "ntime = \"12:00:00\"\n",
        "aftime1 = \"12:00:01\"\n",
        "aftime2 = \"18:00:00\"\n",
        "etime1 = \"18:00:01\"\n",
        "etime2 = \"23:59:59\"\n",
        "\n",
        "#Time of the day\n",
        "if ctime == mNight:\n",
        "    print(\"It is midnight now\")\n",
        "else:\n",
        "    print(\"It is not midnight now\")\n",
        "    if ctime >= mtime1 and ctime <=mtime2:\n",
        "        print(\"It is morning now\")\n",
        "    else:\n",
        "        print(\"It is not morning now\")\n",
        "        if ctime == ntime:\n",
        "            print(\"It is noon now\")\n",
        "        else:\n",
        "            print(\"It is not noon now\")\n",
        "            if ctime >= aftime1 and ctime <=aftime2:\n",
        "                print(\"It is afternoon now\")\n",
        "            else:\n",
        "                print(\"It is not afternoon now\")\n",
        "                if ctime >= etime1 and ctime <=etime2:\n",
        "                    print(\"It is evening now\")\n",
        "                else:\n",
        "                    print(\"It is not evening now\")\n"
      ],
      "metadata": {
        "colab": {
          "base_uri": "https://localhost:8080/"
        },
        "id": "nMrsYbWSGyQx",
        "outputId": "b41c46a6-c721-45c8-daf7-794122013b8c"
      },
      "execution_count": null,
      "outputs": [
        {
          "output_type": "stream",
          "name": "stdout",
          "text": [
            "It is not midnight now\n",
            "It is not morning now\n",
            "It is not noon now\n",
            "It is afternoon now\n"
          ]
        }
      ]
    },
    {
      "cell_type": "code",
      "source": [
        "#Find your current age\n",
        "# Figure out your age\n",
        "# https://gist.github.com/shahri23/1804a3acb7ffb58a1ec8f1eda304af1a\n",
        "import datetime as dtime\n",
        "currentDate = dtime.datetime.now()\n",
        "\n",
        "birthdate = input('Please enter your date of birth (dd/mm/yyyy) ')\n",
        "bdate= dtime.datetime.strptime(birthdate,'%d/%m/%Y') #strptime - string to datetime object\n",
        "print(bdate)\n",
        "daysLeft = currentDate - bdate\n",
        "print(daysLeft)\n",
        "\n",
        "#Average number of days per year is 365.242 days\n",
        "years = ((daysLeft.total_seconds())/(365.242*24*3600))\n",
        "yearsInt=int(years)\n",
        "\n",
        "months=(years-yearsInt)*12\n",
        "monthsInt=int(months)\n",
        "\n",
        "days=(months-monthsInt)*(365.242/12)\n",
        "daysInt=int(days)\n",
        "\n",
        "hours = (days-daysInt)*24\n",
        "hoursInt=int(hours)\n",
        "\n",
        "minutes = (hours-hoursInt)*60\n",
        "minutesInt=int(minutes)\n",
        "\n",
        "seconds = (minutes-minutesInt)*60\n",
        "secondsInt =int(seconds)\n",
        "\n",
        "#0:d - the first argument in the tuple and in decimal format, i.e. yearsInt, etc...\n",
        "print('You are {0:d} years, {1:d}  months, {2:d}  days, {3:d}  hours, {4:d}  minutes, {5:d} seconds old.'.format(yearsInt, monthsInt, daysInt, hoursInt, minutesInt, secondsInt))\n"
      ],
      "metadata": {
        "colab": {
          "base_uri": "https://localhost:8080/"
        },
        "id": "ChFP1lJgHn9R",
        "outputId": "4667ebaa-db67-4e29-c3d7-334a947d440d"
      },
      "execution_count": null,
      "outputs": [
        {
          "output_type": "stream",
          "name": "stdout",
          "text": [
            "Please enter your date of birth (dd/mm/yyyy) 22/04/1989\n",
            "1989-04-22 00:00:00\n",
            "12595 days, 15:44:35.029969\n",
            "You are 34 years, 5  months, 25  days, 5  hours, 51  minutes, 3 seconds old.\n"
          ]
        }
      ]
    },
    {
      "cell_type": "code",
      "source": [
        "#Time delta\n",
        "from datetime import timedelta\n",
        "import datetime as dtime\n",
        "\n",
        "#Minus 1 second from current datetime using `timedelta`\n",
        "ctime = dtime.datetime.now()\n",
        "ptime1 = ctime - timedelta(hours=0, minutes=0, seconds=1, microseconds=0)\n",
        "print('Minus 1 second from current datetime ')\n",
        "print(ctime)\n",
        "print(ptime1)\n",
        "print(\"\\n\")\n",
        "\n",
        "#Minus 1 minute from current datetime using `timedelta`\n",
        "ptime2 = ctime - timedelta(hours=0, minutes=1, seconds=0, microseconds=0)\n",
        "print('Minus 1 minute from current datetime ')\n",
        "print(ctime)\n",
        "print(ptime2)\n",
        "print(\"\\n\")\n",
        "\n",
        "#Minus 1 hour from current datetime using `timedelta`\n",
        "ptime3 = ctime - timedelta(hours=1, minutes=0, seconds=0, microseconds=0)\n",
        "print('Minus 1 hour from current datetime ')\n",
        "print(ctime)\n",
        "print(ptime3)\n",
        "print(\"\\n\")\n",
        "\n",
        "#Minus 1 day from current datetime using `timedelta`\n",
        "ptime4 = ctime - timedelta(days=1, hours=0, minutes=0, seconds=0, microseconds=0)\n",
        "print('Minus 1 day from current datetime ')\n",
        "print(ctime)\n",
        "print(ptime4)\n",
        "print(\"\\n\")\n",
        "\n",
        "\n",
        "#Minus 22 days from current datetime using `timedelta`\n",
        "ptime9 = ctime - timedelta(days=22, hours=0, minutes=0, seconds=0, microseconds=0)\n",
        "print('Minus 22 days from current datetime ')\n",
        "print(ctime)\n",
        "print(ptime9)\n",
        "print(\"\\n\")\n",
        "\n",
        "\n",
        "#Minus 1 week from current datetime using `timedelta`\n",
        "ptime5 = ctime - timedelta(weeks=1, days=0, hours=0, minutes=0, seconds=0, microseconds=0)\n",
        "print('Minus 1 week from current datetime ')\n",
        "print(ctime)\n",
        "print(ptime5)\n",
        "print(\"\\n\")\n",
        "\n",
        "# Minus 1 month from current datetime using `timedelta`\n",
        "# Note there is no argument for months\n",
        "\n",
        "# Minus 1 year from current datetime using `timedelta`\n",
        "# Note there is no argument for years\n"
      ],
      "metadata": {
        "colab": {
          "base_uri": "https://localhost:8080/"
        },
        "id": "NHvnps-BQFrq",
        "outputId": "674aaf86-04a0-4ad9-c058-5ba52a124765"
      },
      "execution_count": null,
      "outputs": [
        {
          "output_type": "stream",
          "name": "stdout",
          "text": [
            "Minus 1 second from current datetime \n",
            "2023-10-16 16:42:07.748969\n",
            "2023-10-16 16:42:06.748969\n",
            "\n",
            "\n",
            "Minus 1 minute from current datetime \n",
            "2023-10-16 16:42:07.748969\n",
            "2023-10-16 16:41:07.748969\n",
            "\n",
            "\n",
            "Minus 1 hour from current datetime \n",
            "2023-10-16 16:42:07.748969\n",
            "2023-10-16 15:42:07.748969\n",
            "\n",
            "\n",
            "Minus 1 day from current datetime \n",
            "2023-10-16 16:42:07.748969\n",
            "2023-10-15 16:42:07.748969\n",
            "\n",
            "\n",
            "Minus 22 days from current datetime \n",
            "2023-10-16 16:42:07.748969\n",
            "2023-09-24 16:42:07.748969\n",
            "\n",
            "\n",
            "Minus 1 week from current datetime \n",
            "2023-10-16 16:42:07.748969\n",
            "2023-10-09 16:42:07.748969\n",
            "\n",
            "\n"
          ]
        }
      ]
    },
    {
      "cell_type": "code",
      "source": [
        "#Relative delta\n",
        "# https://dateutil.readthedocs.io/en/stable/relativedelta.html\n",
        "#https://docs.python.org/3.3/library/datetime.html#timedelta-objects\n",
        "\n",
        "import datetime as dtime\n",
        "from dateutil.relativedelta import *\n",
        "\n",
        "\n",
        "#Add 1 second to current datetime using `relativedelta`\n",
        "ctime = dtime.datetime.now()\n",
        "ftime1 = ctime + relativedelta(hours=0, minutes=0, seconds=1, microseconds=0)\n",
        "print('Add 1 second to current datetime ')\n",
        "print(ctime)\n",
        "print(ftime1)\n",
        "print(\"\\n\")\n",
        "\n",
        "#Add 1 minute to current datetime using `relativedelta`\n",
        "ftime2 = ctime + relativedelta(hours=0, minutes=1, seconds=0, microseconds=0)\n",
        "print('Add 1 minute to current datetime ')\n",
        "print(ctime)\n",
        "print(ftime2)\n",
        "print(\"\\n\")\n",
        "\n",
        "#Add 1 hour to current datetime using `relativedelta`\n",
        "ftime3 = ctime + relativedelta(hours=1, minutes=0, seconds=0, microseconds=0)\n",
        "print('Add 1 hour to current datetime ')\n",
        "print(ctime)\n",
        "print(ftime3)\n",
        "print(\"\\n\")\n",
        "\n",
        "#Add 1 day to current datetime using `relativedelta`\n",
        "ftime4 = ctime + relativedelta(days=1, hours=0, minutes=0, seconds=0, microseconds=0)\n",
        "print('Add 1 day to current datetime ')\n",
        "print(ctime)\n",
        "print(ftime4)\n",
        "print(\"\\n\")\n",
        "\n",
        "#Add 1 week to current datetime using `relativedelta`\n",
        "ftime5 = ctime + relativedelta(weeks=1, days=0, hours=0, minutes=0, seconds=0, microseconds=0)\n",
        "print('Add 1 week to current datetime ')\n",
        "print(ctime)\n",
        "print(ftime5)\n",
        "print(\"\\n\")\n",
        "\n",
        "\n",
        "#Add 1 month to current datetime using `relativedelta`\n",
        "ftime6 = ctime + relativedelta(months=1, weeks=0, days=0, hours=0, minutes=0, seconds=0, microseconds=0)\n",
        "print('Add 1 month to current datetime ')\n",
        "print(ctime)\n",
        "print(ftime6)\n",
        "print(\"\\n\")\n",
        "\n",
        "#Add 1 year to current datetime using `relativedelta`\n",
        "ftime7 = ctime + relativedelta(years=1, months=0, weeks=0, days=0, hours=0, minutes=0, seconds=0, microseconds=0)\n",
        "print('Add 1 year to current datetime ')\n",
        "print(ctime)\n",
        "print(ftime7)\n",
        "print(\"\\n\")\n"
      ],
      "metadata": {
        "colab": {
          "base_uri": "https://localhost:8080/"
        },
        "id": "AmekghPLXc3h",
        "outputId": "ec24fdfc-ee1f-4717-f8c8-80c30dd02b3c"
      },
      "execution_count": null,
      "outputs": [
        {
          "output_type": "stream",
          "name": "stdout",
          "text": [
            "Add 1 second to current datetime \n",
            "2023-10-16 16:48:53.523253\n",
            "2023-10-16 16:48:54.523253\n",
            "\n",
            "\n",
            "Add 1 minute to current datetime \n",
            "2023-10-16 16:48:53.523253\n",
            "2023-10-16 16:49:53.523253\n",
            "\n",
            "\n",
            "Add 1 hour to current datetime \n",
            "2023-10-16 16:48:53.523253\n",
            "2023-10-16 17:48:53.523253\n",
            "\n",
            "\n",
            "Add 1 day to current datetime \n",
            "2023-10-16 16:48:53.523253\n",
            "2023-10-17 16:48:53.523253\n",
            "\n",
            "\n",
            "Add 1 week to current datetime \n",
            "2023-10-16 16:48:53.523253\n",
            "2023-10-23 16:48:53.523253\n",
            "\n",
            "\n",
            "Add 1 month to current datetime \n",
            "2023-10-16 16:48:53.523253\n",
            "2023-11-16 16:48:53.523253\n",
            "\n",
            "\n",
            "Add 1 year to current datetime \n",
            "2023-10-16 16:48:53.523253\n",
            "2024-10-16 16:48:53.523253\n",
            "\n",
            "\n"
          ]
        }
      ]
    },
    {
      "cell_type": "code",
      "source": [
        "#Dates and times in pandas\n",
        "#Extract components of a datetime data structure\n",
        "\n",
        "import pandas as pd\n",
        "import datetime as dtime\n",
        "from dateutil import parser\n",
        "import calendar\n",
        "\n",
        "Adate = \"4th of September, 2025\"\n",
        "daTime = pd.to_datetime(Adate)\n",
        "print(daTime)\n",
        "print(\"\\n\")\n",
        "\n",
        "#Split date to its components\n",
        "date2 = parser.parse(Adate)\n",
        "print(date2)\n",
        "print(\"\\n\")\n",
        "\n",
        "#Extract the year, month and day from currenttime object\n",
        "ctime = dtime.datetime.now()\n",
        "date3 = ctime.strftime(\"%Y-%m-%d\")\n",
        "print(\"Today's date is: \", date3)\n",
        "\n",
        "#Get Year from Current Date\n",
        "print(\"Today's year is: \", ctime.year)\n",
        "\n",
        "#Get Month from Current Date\n",
        "print(\"Today's month is: \", ctime.month)\n",
        "\n",
        "#Get Day from Current Date\n",
        "print(\"Today's day is: \", ctime.day)\n",
        "print(\"\\n\")\n",
        "\n",
        "#============================================================\n",
        "\n",
        "#Extract the year, month and day from a chosen time object\n",
        "my_string = \"2022-05-23 12:23:34\"\n",
        "\n",
        "#Create a date object\n",
        "my_date = dtime.datetime.strptime(my_string, \"%Y-%m-%d %H:%M:%S\")\n",
        "print(\"My chosen date is: \", my_date)\n",
        "\n",
        "#Get Year from a chosen Date\n",
        "print(\"My chosen year is: \", my_date.year)\n",
        "\n",
        "#Get Month from a chosen Date\n",
        "print(\"My chosen month is: \", my_date.month)\n",
        "\n",
        "#Get Day from a chosen Date\n",
        "print(\"My chosen day is: \", my_date.day)\n",
        "\n",
        "#Get hour from a chosen Date\n",
        "print(\"My chosen hour of the time is: \", my_date.hour)\n",
        "\n",
        "#Get minute from a chosen Date\n",
        "print(\"My chosen minute of the time is: \", my_date.minute)\n",
        "\n",
        "#Get second from a chosen Date\n",
        "print(\"My chosen second of the time is: \", my_date.second)\n",
        "\n"
      ],
      "metadata": {
        "colab": {
          "base_uri": "https://localhost:8080/"
        },
        "id": "epsRECHnZF-g",
        "outputId": "5d94aeb9-cc35-476c-df21-603d2b3dff19"
      },
      "execution_count": null,
      "outputs": [
        {
          "output_type": "stream",
          "name": "stdout",
          "text": [
            "2025-09-04 00:00:00\n",
            "\n",
            "\n",
            "2025-09-04 00:00:00\n",
            "\n",
            "\n",
            "Today's date is:  2023-10-16\n",
            "Today's year is:  2023\n",
            "Today's month is:  10\n",
            "Today's day is:  16\n",
            "\n",
            "\n",
            "My chosen date is:  2022-05-23 12:23:34\n",
            "My chosen year is:  2022\n",
            "My chosen month is:  5\n",
            "My chosen day is:  23\n",
            "My chosen hour of the time is:  12\n",
            "My chosen minute of the time is:  23\n",
            "My chosen second of the time is:  34\n"
          ]
        }
      ]
    },
    {
      "cell_type": "code",
      "source": [
        "#Pandas Time Series Indexed by Time\n",
        "#Source https://pandas.pydata.org/pandas-docs/stable/user_guide/timeseries.html\n",
        "import datetime\n",
        "import pandas as pd\n",
        "import numpy as np\n",
        "\n",
        "#Use pandas to convert all different inputs to datetime format\n",
        "dti = pd.to_datetime(['1/1/2018', np.datetime64('2018-01-01'),\n",
        "                        datetime.datetime(2018, 1, 1)])\n",
        "print(dti)\n",
        "print(\"\\n\")\n",
        "\n",
        "#Generate sequences of fixed-frequency dates and time spans, H is hour\n",
        "dti_2 = pd.date_range('2018-01-01', periods=10, freq='H')\n",
        "print(dti_2)\n",
        "print(\"\\n\")\n",
        "\n",
        "# Resampling or converting a time series to a particular frequency with index\n",
        "dti_2 = pd.date_range('2018-01-01', periods=10, freq='H')\n",
        "tseries = pd.Series(range(len(dti_2)), index = dti_2)\n",
        "print(tseries)\n",
        "print(\"\\n\")\n",
        "\n",
        "#Resample the time series to 2 hourly and find the mean\n",
        "tseries.resample('2H').mean()\n"
      ],
      "metadata": {
        "colab": {
          "base_uri": "https://localhost:8080/"
        },
        "id": "PEzgQ7dGgM9N",
        "outputId": "3f26228f-9093-4dbf-99c7-5230599083a8"
      },
      "execution_count": null,
      "outputs": [
        {
          "output_type": "stream",
          "name": "stdout",
          "text": [
            "DatetimeIndex(['2018-01-01', '2018-01-01', '2018-01-01'], dtype='datetime64[ns]', freq=None)\n",
            "\n",
            "\n",
            "DatetimeIndex(['2018-01-01 00:00:00', '2018-01-01 01:00:00',\n",
            "               '2018-01-01 02:00:00', '2018-01-01 03:00:00',\n",
            "               '2018-01-01 04:00:00', '2018-01-01 05:00:00',\n",
            "               '2018-01-01 06:00:00', '2018-01-01 07:00:00',\n",
            "               '2018-01-01 08:00:00', '2018-01-01 09:00:00'],\n",
            "              dtype='datetime64[ns]', freq='H')\n",
            "\n",
            "\n",
            "2018-01-01 00:00:00    0\n",
            "2018-01-01 01:00:00    1\n",
            "2018-01-01 02:00:00    2\n",
            "2018-01-01 03:00:00    3\n",
            "2018-01-01 04:00:00    4\n",
            "2018-01-01 05:00:00    5\n",
            "2018-01-01 06:00:00    6\n",
            "2018-01-01 07:00:00    7\n",
            "2018-01-01 08:00:00    8\n",
            "2018-01-01 09:00:00    9\n",
            "Freq: H, dtype: int64\n",
            "\n",
            "\n"
          ]
        },
        {
          "output_type": "execute_result",
          "data": {
            "text/plain": [
              "2018-01-01 00:00:00    0.5\n",
              "2018-01-01 02:00:00    2.5\n",
              "2018-01-01 04:00:00    4.5\n",
              "2018-01-01 06:00:00    6.5\n",
              "2018-01-01 08:00:00    8.5\n",
              "Freq: 2H, dtype: float64"
            ]
          },
          "metadata": {},
          "execution_count": 37
        }
      ]
    },
    {
      "cell_type": "code",
      "source": [
        "#Represent time component in the index of a Series or dataframe so that manipulations can be performed with respect\n",
        "#to the time element\n",
        "import datetime\n",
        "import pandas as pd\n",
        "\n",
        "#D is day\n",
        "tseries1 = pd.Series(pd.date_range('2020', freq='D', periods=40))\n",
        "print(tseries1)\n",
        "print(\"\\n\")\n",
        "\n",
        "#M is month\n",
        "tseries2 = pd.Series(pd.period_range('1/1/2011', freq='M', periods=10))\n",
        "print(tseries2)\n",
        "print(\"\\n\")\n",
        "\n",
        "#M is month\n",
        "#When passed into those constructors.\n",
        "#DateOffset data however will be stored as object data.\n",
        "ts = pd.Timestamp('2017-01-01 09:10:11')\n",
        "ts = ts + pd.DateOffset(months=2)\n",
        "print(ts)\n",
        "# tseries3 = pd.Series([pd.DateOffset(1), pd.DateOffset(2)])\n",
        "# print(tseries3)\n",
        "print(\"\\n\")\n",
        "\n",
        "tseries4 = pd.Series(pd.date_range('1/1/2011', freq='M', periods=3))\n",
        "print(tseries4)\n",
        "print(\"\\n\")\n"
      ],
      "metadata": {
        "colab": {
          "base_uri": "https://localhost:8080/"
        },
        "id": "nDb37Ie7xaS-",
        "outputId": "4312a91c-741d-42e5-d6a8-9a21172df8d0"
      },
      "execution_count": null,
      "outputs": [
        {
          "output_type": "stream",
          "name": "stdout",
          "text": [
            "0    2020-01-01\n",
            "1    2020-01-02\n",
            "2    2020-01-03\n",
            "3    2020-01-04\n",
            "4    2020-01-05\n",
            "5    2020-01-06\n",
            "6    2020-01-07\n",
            "7    2020-01-08\n",
            "8    2020-01-09\n",
            "9    2020-01-10\n",
            "10   2020-01-11\n",
            "11   2020-01-12\n",
            "12   2020-01-13\n",
            "13   2020-01-14\n",
            "14   2020-01-15\n",
            "15   2020-01-16\n",
            "16   2020-01-17\n",
            "17   2020-01-18\n",
            "18   2020-01-19\n",
            "19   2020-01-20\n",
            "20   2020-01-21\n",
            "21   2020-01-22\n",
            "22   2020-01-23\n",
            "23   2020-01-24\n",
            "24   2020-01-25\n",
            "25   2020-01-26\n",
            "26   2020-01-27\n",
            "27   2020-01-28\n",
            "28   2020-01-29\n",
            "29   2020-01-30\n",
            "30   2020-01-31\n",
            "31   2020-02-01\n",
            "32   2020-02-02\n",
            "33   2020-02-03\n",
            "34   2020-02-04\n",
            "35   2020-02-05\n",
            "36   2020-02-06\n",
            "37   2020-02-07\n",
            "38   2020-02-08\n",
            "39   2020-02-09\n",
            "dtype: datetime64[ns]\n",
            "\n",
            "\n",
            "0    2011-01\n",
            "1    2011-02\n",
            "2    2011-03\n",
            "3    2011-04\n",
            "4    2011-05\n",
            "5    2011-06\n",
            "6    2011-07\n",
            "7    2011-08\n",
            "8    2011-09\n",
            "9    2011-10\n",
            "dtype: period[M]\n",
            "\n",
            "\n",
            "2017-01-03 09:10:11\n",
            "\n",
            "\n",
            "0   2011-01-31\n",
            "1   2011-02-28\n",
            "2   2011-03-31\n",
            "dtype: datetime64[ns]\n",
            "\n",
            "\n"
          ]
        }
      ]
    },
    {
      "cell_type": "code",
      "source": [
        "#Represent Missing Data for dates, time deltas, and time spans\n",
        "import datetime\n",
        "import pandas as pd\n",
        "\n",
        "missing1 = pd.Timestamp(pd.NaT)\n",
        "print(missing1)\n",
        "\n",
        "missing2 = pd.Timedelta(pd.NaT)\n",
        "print(missing2)\n",
        "\n",
        "missing3 = pd.Period(pd.NaT)\n",
        "print(missing3)\n",
        "\n",
        "#You cannot use equality for NaT\n",
        "print(missing1 == pd.NaT)\n",
        "print(missing1 == \"NaT\")\n"
      ],
      "metadata": {
        "colab": {
          "base_uri": "https://localhost:8080/"
        },
        "id": "smJ2SDq35VjM",
        "outputId": "bc81b168-797a-4840-f813-0e720cb7efd5"
      },
      "execution_count": null,
      "outputs": [
        {
          "output_type": "stream",
          "name": "stdout",
          "text": [
            "NaT\n",
            "NaT\n",
            "NaT\n",
            "False\n",
            "False\n"
          ]
        }
      ]
    },
    {
      "cell_type": "code",
      "source": [
        "# Read in data lists\n",
        "import datetime\n",
        "import pandas as pd\n",
        "\n",
        "# Timestamp for Data List\n",
        "dates = [pd.Timestamp('2012-05-01'), pd.Timestamp('2012-05-02'),\n",
        "        pd.Timestamp('2012-05-03')]\n",
        "print(dates)\n",
        "print(\"\\n\")\n",
        "\n",
        "# Use datetime and datetime index\n",
        "dates2 = pd.to_datetime(['2018-01-05', '7/8/1952', 'Oct 10, 1995'])\n",
        "dates3 = pd.DatetimeIndex(['2018-01-05', '1952-07-08', '1995-10-10'])\n",
        "dates4 = pd.to_datetime(['22/01/10', '18/06/17', '15/12/12'], format='%d/%m/%y')\n",
        "print(dates2)\n",
        "print(\"\\n\")\n",
        "print(dates3)\n",
        "print(\"\\n\")\n",
        "print(dates4)\n",
        "print(\"\\n\")\n",
        "\n",
        "# Use pandas dataframe\n",
        "df = pd.DataFrame({ 'year': [2015, 2016], 'month': [2, 3], 'day': [4, 5],\n",
        "                    'hour': [2, 3]})\n",
        "dtime = pd.to_datetime(df)\n",
        "print(dtime)\n",
        "print(\"\\n\")\n",
        "\n",
        "# Pass only the columns we need - Year, month, and day\n",
        "dtime2 = pd.to_datetime(df[['year', 'month', 'day']])\n",
        "print (dtime2)\n",
        "print(\"\\n\")\n"
      ],
      "metadata": {
        "colab": {
          "base_uri": "https://localhost:8080/"
        },
        "id": "ohX1WzcC7ZPN",
        "outputId": "b9b107c7-da17-4f3f-8c3a-49b4b6dc771e"
      },
      "execution_count": null,
      "outputs": [
        {
          "output_type": "stream",
          "name": "stdout",
          "text": [
            "[Timestamp('2012-05-01 00:00:00'), Timestamp('2012-05-02 00:00:00'), Timestamp('2012-05-03 00:00:00')]\n",
            "\n",
            "\n",
            "DatetimeIndex(['2018-01-05', '1952-07-08', '1995-10-10'], dtype='datetime64[ns]', freq=None)\n",
            "\n",
            "\n",
            "DatetimeIndex(['2018-01-05', '1952-07-08', '1995-10-10'], dtype='datetime64[ns]', freq=None)\n",
            "\n",
            "\n",
            "DatetimeIndex(['2010-01-22', '2017-06-18', '2012-12-15'], dtype='datetime64[ns]', freq=None)\n",
            "\n",
            "\n",
            "0   2015-02-04 02:00:00\n",
            "1   2016-03-05 03:00:00\n",
            "dtype: datetime64[ns]\n",
            "\n",
            "\n",
            "0   2015-02-04\n",
            "1   2016-03-05\n",
            "dtype: datetime64[ns]\n",
            "\n",
            "\n"
          ]
        }
      ]
    }
  ]
}